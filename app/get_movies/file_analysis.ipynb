{
 "cells": [
  {
   "cell_type": "code",
   "execution_count": 5,
   "metadata": {},
   "outputs": [],
   "source": [
    "import duckdb\n",
    "import os\n",
    "import numpy as np\n",
    "import gensim\n",
    "from sklearn.model_selection import train_test_split\n",
    "from sklearn.preprocessing import OneHotEncoder, MultiLabelBinarizer\n",
    "from sklearn.linear_model import LinearRegression\n",
    "from sklearn.tree import DecisionTreeRegressor\n",
    "from sklearn.ensemble import RandomForestRegressor\n",
    "from sklearn.svm import SVR\n",
    "from sklearn.neural_network import MLPRegressor\n",
    "from sklearn.metrics import mean_squared_error\n",
    "import pickle\n",
    "\n",
    "\n",
    "import duckdb\n",
    "import os\n",
    "import numpy as np\n",
    "import gensim\n",
    "from sklearn.model_selection import train_test_split\n",
    "from sklearn.preprocessing import OneHotEncoder, MultiLabelBinarizer\n",
    "from sklearn.linear_model import LinearRegression\n",
    "from sklearn.tree import DecisionTreeRegressor\n",
    "from sklearn.ensemble import RandomForestRegressor\n",
    "from sklearn.svm import SVR\n",
    "from sklearn.neural_network import MLPRegressor\n",
    "from sklearn.metrics import mean_squared_error\n",
    "import pickle"
   ]
  },
  {
   "cell_type": "code",
   "execution_count": 6,
   "metadata": {},
   "outputs": [
    {
     "data": {
      "text/html": [
       "<div>\n",
       "<style scoped>\n",
       "    .dataframe tbody tr th:only-of-type {\n",
       "        vertical-align: middle;\n",
       "    }\n",
       "\n",
       "    .dataframe tbody tr th {\n",
       "        vertical-align: top;\n",
       "    }\n",
       "\n",
       "    .dataframe thead th {\n",
       "        text-align: right;\n",
       "    }\n",
       "</style>\n",
       "<table border=\"1\" class=\"dataframe\">\n",
       "  <thead>\n",
       "    <tr style=\"text-align: right;\">\n",
       "      <th></th>\n",
       "      <th>ct_d</th>\n",
       "      <th>ct</th>\n",
       "    </tr>\n",
       "  </thead>\n",
       "  <tbody>\n",
       "    <tr>\n",
       "      <th>0</th>\n",
       "      <td>6565</td>\n",
       "      <td>6616</td>\n",
       "    </tr>\n",
       "  </tbody>\n",
       "</table>\n",
       "</div>"
      ],
      "text/plain": [
       "   ct_d    ct\n",
       "0  6565  6616"
      ]
     },
     "execution_count": 6,
     "metadata": {},
     "output_type": "execute_result"
    }
   ],
   "source": [
    "output_movies_folder=\"C:/projects/fiap-proj-int-03/app/get_movies/output_files/*.json\"\n",
    "\n",
    "conn = duckdb.connect(config = {'threads': 5})\n",
    "\n",
    "conn.execute(f\"CREATE TABLE movies AS (SELECT * FROM read_json('{output_movies_folder}'));\")\n",
    "\n",
    "#df = conn.execute(f\"SELECT genre_ids, title, vote_average FROM read_json('{output_movies_folder}/*.json')\").fetchdf()\n",
    "\n",
    "df = conn.execute(f\"\"\"\n",
    "    SELECT \n",
    "        --*\n",
    "        --id\n",
    "        --, genre_ids\n",
    "        --, title\n",
    "        --, vote_average\n",
    "        --, overview\n",
    "        count(DISTINCT id) as ct_d,\n",
    "        count(id) as ct\n",
    "    FROM movies\n",
    "    WHERE overview is not null \n",
    "      AND trim(overview) <> ''\n",
    "                  \n",
    "\"\"\").fetchdf()\n",
    "\n",
    "df.head(20)\n",
    "#print(f\"number of lines: {df.count()}\")"
   ]
  }
 ],
 "metadata": {
  "kernelspec": {
   "display_name": "fiap-03",
   "language": "python",
   "name": "python3"
  },
  "language_info": {
   "codemirror_mode": {
    "name": "ipython",
    "version": 3
   },
   "file_extension": ".py",
   "mimetype": "text/x-python",
   "name": "python",
   "nbconvert_exporter": "python",
   "pygments_lexer": "ipython3",
   "version": "3.10.14"
  }
 },
 "nbformat": 4,
 "nbformat_minor": 2
}
